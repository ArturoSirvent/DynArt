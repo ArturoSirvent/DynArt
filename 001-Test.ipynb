{
 "cells": [
  {
   "cell_type": "markdown",
   "metadata": {},
   "source": [
    "El objetivo de este notebook es obetener de un `.mid` una representación simbólica en python con arrays etc.   \n",
    "Además de experimentar sobre como devolver eso de nuevo a midi para usarlo en Unity, y que ahi se modifique las articulaciones.  "
   ]
  },
  {
   "cell_type": "markdown",
   "metadata": {},
   "source": [
    "## Importamos las librerias "
   ]
  },
  {
   "cell_type": "code",
   "execution_count": 2,
   "metadata": {},
   "outputs": [
    {
     "name": "stdout",
     "output_type": "stream",
     "text": [
      "pygame 2.5.2 (SDL 2.28.2, Python 3.8.18)\n",
      "Hello from the pygame community. https://www.pygame.org/contribute.html\n"
     ]
    }
   ],
   "source": [
    "import mido\n",
    "from pygame import mixer\n",
    "import pygame\n",
    "import time\n",
    "import tempfile\n",
    "import os\n",
    "import pretty_midi\n"
   ]
  },
  {
   "cell_type": "code",
   "execution_count": 3,
   "metadata": {},
   "outputs": [],
   "source": [
    "file_path = './data-MIDI/_2022_09_19_Bizet_Carmen_Prelude.mid'"
   ]
  },
  {
   "cell_type": "code",
   "execution_count": 4,
   "metadata": {},
   "outputs": [],
   "source": [
    "\n",
    "# Función para reproducir un archivo MIDI, pero solo del primer canal\n",
    "def play_midi_first_channel(file_path):\n",
    "    # Inicializar el módulo mixer\n",
    "    mixer.init()\n",
    "\n",
    "    # Cargar el archivo MIDI\n",
    "    mid = mido.MidiFile(file_path)\n",
    "\n",
    "    # Crear un archivo MIDI temporal\n",
    "    temp_mid = mido.MidiFile(ticks_per_beat=mid.ticks_per_beat)\n",
    "\n",
    "    # Copiar los mensajes del primer canal al archivo temporal\n",
    "    temp_track = mido.MidiTrack()\n",
    "    temp_mid.tracks.append(temp_track)\n",
    "    for msg in mid:\n",
    "        # Filtrar mensajes que no son del primer canal y no son meta mensajes\n",
    "        if not msg.is_meta and msg.type != 'sysex' and msg.channel == 0:\n",
    "            # Asegurarse de que el tiempo del mensaje sea un entero\n",
    "            msg.time = int(msg.time)\n",
    "            temp_track.append(msg)\n",
    "\n",
    "    # Guardar los mensajes filtrados en un archivo temporal\n",
    "    temp_file = tempfile.NamedTemporaryFile(delete=False)\n",
    "\n",
    "    # Reproducir el archivo MIDI temporal\n",
    "    mixer.music.load(temp_file.name)\n",
    "    mixer.music.play()\n",
    "\n",
    "    # Esperar a que termine la reproducción\n",
    "    while mixer.music.get_busy():\n",
    "        time.sleep(1)\n",
    "\n",
    "\n",
    "# Uso del ejemplo: play_midi_first_channel('ruta_a_tu_archivo_midi.mid')\n"
   ]
  },
  {
   "cell_type": "code",
   "execution_count": 5,
   "metadata": {},
   "outputs": [
    {
     "ename": "error",
     "evalue": "Couldn't read first 12 bytes of audio data",
     "output_type": "error",
     "traceback": [
      "\u001b[0;31m---------------------------------------------------------------------------\u001b[0m",
      "\u001b[0;31merror\u001b[0m                                     Traceback (most recent call last)",
      "\u001b[1;32m/home/arturo/Documents/programacion_stuff/TheSoundOfAI/code/DynArt/001-Test.ipynb Cell 6\u001b[0m line \u001b[0;36m1\n\u001b[0;32m----> <a href='vscode-notebook-cell:/home/arturo/Documents/programacion_stuff/TheSoundOfAI/code/DynArt/001-Test.ipynb#W2sZmlsZQ%3D%3D?line=0'>1</a>\u001b[0m play_midi_first_channel(file_path)\n",
      "\u001b[1;32m/home/arturo/Documents/programacion_stuff/TheSoundOfAI/code/DynArt/001-Test.ipynb Cell 6\u001b[0m line \u001b[0;36m2\n\u001b[1;32m     <a href='vscode-notebook-cell:/home/arturo/Documents/programacion_stuff/TheSoundOfAI/code/DynArt/001-Test.ipynb#W2sZmlsZQ%3D%3D?line=22'>23</a>\u001b[0m temp_file \u001b[39m=\u001b[39m tempfile\u001b[39m.\u001b[39mNamedTemporaryFile(delete\u001b[39m=\u001b[39m\u001b[39mFalse\u001b[39;00m)\n\u001b[1;32m     <a href='vscode-notebook-cell:/home/arturo/Documents/programacion_stuff/TheSoundOfAI/code/DynArt/001-Test.ipynb#W2sZmlsZQ%3D%3D?line=24'>25</a>\u001b[0m \u001b[39m# Reproducir el archivo MIDI temporal\u001b[39;00m\n\u001b[0;32m---> <a href='vscode-notebook-cell:/home/arturo/Documents/programacion_stuff/TheSoundOfAI/code/DynArt/001-Test.ipynb#W2sZmlsZQ%3D%3D?line=25'>26</a>\u001b[0m mixer\u001b[39m.\u001b[39;49mmusic\u001b[39m.\u001b[39;49mload(temp_file\u001b[39m.\u001b[39;49mname)\n\u001b[1;32m     <a href='vscode-notebook-cell:/home/arturo/Documents/programacion_stuff/TheSoundOfAI/code/DynArt/001-Test.ipynb#W2sZmlsZQ%3D%3D?line=26'>27</a>\u001b[0m mixer\u001b[39m.\u001b[39mmusic\u001b[39m.\u001b[39mplay()\n\u001b[1;32m     <a href='vscode-notebook-cell:/home/arturo/Documents/programacion_stuff/TheSoundOfAI/code/DynArt/001-Test.ipynb#W2sZmlsZQ%3D%3D?line=28'>29</a>\u001b[0m \u001b[39m# Esperar a que termine la reproducción\u001b[39;00m\n",
      "\u001b[0;31merror\u001b[0m: Couldn't read first 12 bytes of audio data"
     ]
    }
   ],
   "source": [
    "play_midi_first_channel(file_path)"
   ]
  },
  {
   "cell_type": "code",
   "execution_count": 13,
   "metadata": {},
   "outputs": [
    {
     "ename": "KeyboardInterrupt",
     "evalue": "",
     "output_type": "error",
     "traceback": [
      "\u001b[0;31m---------------------------------------------------------------------------\u001b[0m",
      "\u001b[0;31mKeyboardInterrupt\u001b[0m                         Traceback (most recent call last)",
      "\u001b[1;32m/home/arturo/Documents/programacion_stuff/TheSoundOfAI/code/001-Test.ipynb Cell 2\u001b[0m line \u001b[0;36m1\n\u001b[1;32m     <a href='vscode-notebook-cell:/home/arturo/Documents/programacion_stuff/TheSoundOfAI/code/001-Test.ipynb#W5sZmlsZQ%3D%3D?line=16'>17</a>\u001b[0m \u001b[39m# Espera hasta que la música termine\u001b[39;00m\n\u001b[1;32m     <a href='vscode-notebook-cell:/home/arturo/Documents/programacion_stuff/TheSoundOfAI/code/001-Test.ipynb#W5sZmlsZQ%3D%3D?line=17'>18</a>\u001b[0m \u001b[39mwhile\u001b[39;00m pygame\u001b[39m.\u001b[39mmixer\u001b[39m.\u001b[39mmusic\u001b[39m.\u001b[39mget_busy():\n\u001b[0;32m---> <a href='vscode-notebook-cell:/home/arturo/Documents/programacion_stuff/TheSoundOfAI/code/001-Test.ipynb#W5sZmlsZQ%3D%3D?line=18'>19</a>\u001b[0m     pygame\u001b[39m.\u001b[39;49mtime\u001b[39m.\u001b[39;49mwait(\u001b[39m1000\u001b[39;49m)\n",
      "\u001b[0;31mKeyboardInterrupt\u001b[0m: "
     ]
    }
   ],
   "source": [
    "\n",
    "# Cargar el archivo MIDI\n",
    "midi_file = '/home/arturo/Documents/programacion_stuff/TheSoundOfAI/code/data-MIDI/_2022_09_19_Bizet_Carmen_Prelude.mid'\n",
    "midi_data = pretty_midi.PrettyMIDI(midi_file)\n",
    "\n",
    "# Inicializar pygame para la reproducción\n",
    "pygame.init()\n",
    "pygame.mixer.init()\n",
    "pygame.mixer.music.load(midi_file)\n",
    "\n",
    "# Reproducir el archivo MIDI\n",
    "pygame.mixer.music.play()\n",
    "\n",
    "# Espera hasta que la música termine\n",
    "while pygame.mixer.music.get_busy():\n",
    "    pygame.time.wait(1000)\n"
   ]
  },
  {
   "cell_type": "markdown",
   "metadata": {},
   "source": [
    "## Como cargar los datos midi y punto"
   ]
  },
  {
   "cell_type": "markdown",
   "metadata": {},
   "source": [
    "## Guardar midi en formato tab"
   ]
  },
  {
   "cell_type": "code",
   "execution_count": 20,
   "metadata": {},
   "outputs": [],
   "source": [
    "import mido  # Importing the mido library for MIDI file handling\n",
    "import music21  # Importing the music21 library for music notation and score generation\n",
    "\n",
    "def midi_to_text_representation(midi_file):\n",
    "    \"\"\"\n",
    "    Converts the first channel of a MIDI file into a text representation.\n",
    "    Each note event is represented as a string: 'Note-On, Note, Velocity, Time'.\n",
    "    \"\"\"\n",
    "    mid = mido.MidiFile(midi_file)\n",
    "    text_representation = []\n",
    "\n",
    "    for track in mid.tracks:\n",
    "        for msg in track:\n",
    "            if msg.type == 'note_on' and msg.channel == 0:\n",
    "                # Formatting the note event as a string\n",
    "                note_event = f\"Note-On, Note: {msg.note}, Velocity: {msg.velocity}, Time: {msg.time}\"\n",
    "                text_representation.append(note_event)\n",
    "\n",
    "    return text_representation, mid.ticks_per_beat\n",
    "\n",
    "def text_to_score(text_representation,ticks_pre_beat):\n",
    "    \"\"\"\n",
    "    Converts a text representation of MIDI events into a music21 score (partitura).\n",
    "    The text representation should be in the format 'Note-On, Note, Velocity, Time'.\n",
    "    \"\"\"\n",
    "    score = music21.stream.Score()\n",
    "    part = music21.stream.Part()\n",
    "    \n",
    "    for event in text_representation:\n",
    "        # Extracting note information from the text\n",
    "        _, note_info, velocity_info, time_info = event.split(', ')\n",
    "        note = int(note_info.split(': ')[1])\n",
    "        velocity = int(velocity_info.split(': ')[1])\n",
    "        time = float(time_info.split(': ')[1])\n",
    "\n",
    "        # Creating a Note object and adding it to the part\n",
    "        music_note = music21.note.Note()\n",
    "        music_note.pitch.midi = note\n",
    "        music_note.volume.velocity = velocity\n",
    "        music_note.duration.quarterLength = time / mido.tick2second(1, ticks_per_beat, mido.bpm2tempo(120))\n",
    "        part.append(music_note)\n",
    "\n",
    "    score.append(part)\n",
    "    return score\n",
    "\n",
    "# Example usage\n",
    "midi_file = midi_file\n",
    "text_repr,ticks_per_beat = midi_to_text_representation(midi_file)\n",
    "\n",
    "\n"
   ]
  },
  {
   "cell_type": "code",
   "execution_count": 22,
   "metadata": {},
   "outputs": [],
   "source": [
    "score = text_to_score(text_repr,1)\n"
   ]
  },
  {
   "cell_type": "code",
   "execution_count": 23,
   "metadata": {},
   "outputs": [
    {
     "data": {
      "text/html": [
       "\n",
       "                <div id=\"midiPlayerDiv648840\"></div>\n",
       "                <link rel=\"stylesheet\" href=\"https://cuthbertLab.github.io/music21j/css/m21.css\">\n",
       "                \n",
       "                <script>\n",
       "                require.config({\n",
       "                    paths: {\n",
       "                        'music21': 'https://cuthbertLab.github.io/music21j/releases/music21.debug',\n",
       "                    }\n",
       "                });\n",
       "                require(['music21'], function(music21) {\n",
       "                    mp = new music21.miditools.MidiPlayer();\n",
       "                    mp.addPlayer(\"#midiPlayerDiv648840\");\n",
       "                    mp.base64Load(\"data:audio/midi;base64,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\");\n",
       "                });\n",
       "                </script>"
      ],
      "text/plain": [
       "<IPython.core.display.HTML object>"
      ]
     },
     "metadata": {},
     "output_type": "display_data"
    }
   ],
   "source": [
    "score.show(\"midi\")\n"
   ]
  },
  {
   "cell_type": "code",
   "execution_count": 20,
   "metadata": {},
   "outputs": [],
   "source": [
    "from music21 import stream, note, tempo\n",
    "\n",
    "# Lista de notas en el formato (pitch, velocity, duration)\n",
    "import mido  # Importando la librería mido, comúnmente utilizada para manejar archivos MIDI\n",
    "midi_file = './data-MIDI/_2022_09_19_Bizet_Carmen_Prelude.mid'\n",
    "\n",
    "def midi_to_array(midi_file):\n",
    "    \"\"\"\n",
    "    Esta función toma un archivo MIDI y convierte el primer canal en un array legible.\n",
    "    Cada evento de nota en el canal se representa como una tupla (nota, velocidad, tiempo).\n",
    "    \"\"\"\n",
    "    mid = mido.MidiFile(midi_file)\n",
    "    channel_data = []\n",
    "\n",
    "    for track in mid.tracks:\n",
    "        for msg in track:\n",
    "            if msg.type == 'note_on' and msg.channel == 0:\n",
    "                # Almacenando nota, velocidad y tiempo en el array\n",
    "                channel_data.append((msg.note, msg.velocity, msg.time))\n",
    "\n",
    "    return channel_data\n",
    "\n",
    "# Ejemplo de uso\n",
    "notas = midi_to_array(midi_file)[:100]\n",
    "\n",
    "# Crear un Stream en music21\n",
    "del partitura\n",
    "partitura = stream.Stream()\n",
    "partitura.append(tempo.MetronomeMark(number=120))  # Establecer el tempo\n",
    "\n",
    "# Añadir notas al Stream\n",
    "for n in notas:\n",
    "    midi_pitch, _, duracion_redonda = n\n",
    "    nueva_nota = note.Note()\n",
    "    nueva_nota.pitch.midi = midi_pitch\n",
    "    nueva_nota.duration.quarterLength = duracion_redonda\n",
    "    partitura.append(nueva_nota)\n",
    "\n",
    "# Exportar a MusicXML\n",
    "#partitura.write('musicxml', 'mi_musica.xml')\n"
   ]
  },
  {
   "cell_type": "code",
   "execution_count": 22,
   "metadata": {},
   "outputs": [
    {
     "data": {
      "text/plain": [
       "[(81, 120, 0),\n",
       " (81, 113, 240),\n",
       " (81, 113, 120),\n",
       " (81, 113, 120),\n",
       " (76, 111, 120),\n",
       " (74, 110, 120),\n",
       " (76, 111, 120),\n",
       " (81, 121, 120),\n",
       " (81, 114, 240),\n",
       " (81, 114, 120),\n",
       " (81, 114, 120),\n",
       " (83, 115, 120),\n",
       " (85, 117, 120),\n",
       " (83, 115, 120),\n",
       " (81, 121, 120),\n",
       " (81, 114, 240),\n",
       " (81, 114, 120),\n",
       " (83, 116, 120),\n",
       " (81, 115, 120),\n",
       " (80, 114, 120),\n",
       " (81, 115, 120),\n",
       " (83, 123, 120),\n",
       " (85, 123, 26),\n",
       " (83, 123, 30),\n",
       " (85, 123, 26),\n",
       " (83, 123, 22),\n",
       " (85, 123, 22),\n",
       " (83, 123, 34),\n",
       " (85, 123, 37),\n",
       " (83, 123, 37),\n",
       " (85, 123, 41),\n",
       " (82, 115, 94),\n",
       " (83, 115, 217),\n",
       " (86, 127, 15),\n",
       " (86, 119, 0),\n",
       " (86, 118, 0),\n",
       " (86, 118, 0),\n",
       " (81, 100, 0),\n",
       " (79, 97, 0),\n",
       " (81, 103, 0),\n",
       " (86, 127, 0),\n",
       " (86, 125, 0),\n",
       " (86, 124, 0),\n",
       " (86, 123, 0),\n",
       " (88, 127, 0),\n",
       " (90, 127, 0),\n",
       " (88, 125, 0),\n",
       " (86, 119, 0),\n",
       " (86, 112, 0),\n",
       " (85, 106, 0),\n",
       " (83, 99, 0),\n",
       " (83, 101, 0),\n",
       " (81, 96, 0),\n",
       " (80, 102, 0),\n",
       " (81, 102, 26),\n",
       " (80, 102, 30),\n",
       " (81, 102, 26),\n",
       " (80, 102, 22),\n",
       " (81, 102, 22),\n",
       " (80, 102, 34),\n",
       " (81, 102, 37),\n",
       " (80, 102, 37),\n",
       " (81, 102, 41),\n",
       " (78, 101, 94),\n",
       " (80, 108, 217),\n",
       " (81, 119, 15),\n",
       " (81, 113, 240),\n",
       " (81, 114, 120),\n",
       " (81, 114, 120),\n",
       " (76, 105, 120),\n",
       " (74, 104, 120),\n",
       " (76, 108, 120),\n",
       " (81, 122, 120),\n",
       " (81, 115, 240),\n",
       " (81, 115, 120),\n",
       " (81, 115, 120),\n",
       " (83, 116, 120),\n",
       " (85, 118, 120),\n",
       " (83, 116, 120),\n",
       " (81, 121, 120),\n",
       " (81, 114, 240),\n",
       " (81, 115, 120),\n",
       " (83, 116, 120),\n",
       " (81, 115, 120),\n",
       " (80, 114, 120),\n",
       " (81, 115, 120),\n",
       " (83, 125, 120),\n",
       " (87, 125, 0),\n",
       " (83, 125, 0),\n",
       " (87, 125, 0),\n",
       " (83, 125, 0),\n",
       " (87, 125, 0),\n",
       " (83, 125, 0),\n",
       " (87, 125, 0),\n",
       " (83, 125, 0),\n",
       " (87, 125, 0),\n",
       " (82, 115, 1309),\n",
       " (83, 116, 0),\n",
       " (88, 127, 0),\n",
       " (88, 122, 240)]"
      ]
     },
     "execution_count": 22,
     "metadata": {},
     "output_type": "execute_result"
    }
   ],
   "source": [
    "notas"
   ]
  },
  {
   "cell_type": "code",
   "execution_count": 21,
   "metadata": {},
   "outputs": [
    {
     "data": {
      "text/html": [
       "\n",
       "                <div id=\"midiPlayerDiv400009\"></div>\n",
       "                <link rel=\"stylesheet\" href=\"https://cuthbertLab.github.io/music21j/css/m21.css\">\n",
       "                \n",
       "                <script>\n",
       "                require.config({\n",
       "                    paths: {\n",
       "                        'music21': 'https://cuthbertLab.github.io/music21j/releases/music21.debug',\n",
       "                    }\n",
       "                });\n",
       "                require(['music21'], function(music21) {\n",
       "                    mp = new music21.miditools.MidiPlayer();\n",
       "                    mp.addPlayer(\"#midiPlayerDiv400009\");\n",
       "                    mp.base64Load(\"data:audio/midi;base64,TVRoZAAAAAYAAQACBABNVHJrAAAAFAD/UQMHoSAA/1gEBAIYCIgA/y8ATVRyawAAA7QA/wMAAOAAQIgAgFEAAJBRWgCQUVqPgACAUQAAkFFah8AAgFEAAJBRWofAAIBRAACQTFqHwACATAAAkEpah8AAgEoAAJBMWofAAIBMAACQUVqHwACAUQAAkFFaj4AAgFEAAJBRWofAAIBRAACQUVqHwACAUQAAkFNah8AAgFMAAJBVWofAAIBVAACQU1qHwACAUwAAkFFah8AAgFEAAJBRWo+AAIBRAACQUVqHwACAUQAAkFNah8AAgFMAAJBRWofAAIBRAACQUFqHwACAUAAAkFFah8AAgFEAAJBTWofAAIBTAACQVVqB0ACAVQAAkFNagfAAgFMAAJBVWoHQAIBVAACQU1qBsACAUwAAkFVagbAAgFUAAJBTWoKQAIBTAACQVVqCqACAVQAAkFNagqgAgFMAAJBVWoLIAIBVAACQUlqF8ACAUgAAkFNajcgAgFMAAJBWWvgAgFYAAIBWAACAVgAAgFYAAIBRAACATwAAgFEAAIBWAACAVgAAgFYAAIBWAACAWAAAgFoAAIBYAACAVgAAgFYAAIBVAACAUwAAgFMAAIBRAACAUAAAkFZaAJBWWgCQVloAkFFaAJBPWgCQUVoAkFZaAJBWWgCQVloAkFZaAJBYWgCQWloAkFhaAJBWWgCQVloAkFVaAJBTWgCQU1oAkFFaAJBQWgCQUVqB0ACAUQAAkFBagfAAgFAAAJBRWoHQAIBRAACQUFqBsACAUAAAkFFagbAAgFEAAJBQWoKQAIBQAACQUVqCqACAUQAAkFBagqgAgFAAAJBRWoLIAIBRAACQTlqF8ACATgAAkFBajcgAgFAAAJBRWvgAgFEAAJBRWo+AAIBRAACQUVqHwACAUQAAkFFah8AAgFEAAJBMWofAAIBMAACQSlqHwACASgAAkExah8AAgEwAAJBRWofAAIBRAACQUVqPgACAUQAAkFFah8AAgFEAAJBRWofAAIBRAACQU1qHwACAUwAAkFVah8AAgFUAAJBTWofAAIBTAACQUVqHwACAUQAAkFFaj4AAgFEAAJBRWofAAIBRAACQU1qHwACAUwAAkFFah8AAgFEAAJBQWofAAIBQAACQUVqHwACAUQAAkFNah8AAgFMAAIBXAACAUwAAgFcAAIBTAACAVwAAgFMAAIBXAACAUwAAgFcAAJBXWgCQU1oAkFdaAJBTWgCQV1oAkFNaAJBXWgCQU1oAkFdaAJBSWtHoAIBSAACAUwAAgFgAAJBTWgCQWFoAkFhaj4AAgFgAiAD/LwA=\");\n",
       "                });\n",
       "                </script>"
      ],
      "text/plain": [
       "<IPython.core.display.HTML object>"
      ]
     },
     "metadata": {},
     "output_type": "display_data"
    }
   ],
   "source": [
    "partitura.show(\"midi\")"
   ]
  },
  {
   "cell_type": "code",
   "execution_count": null,
   "metadata": {},
   "outputs": [],
   "source": []
  },
  {
   "cell_type": "code",
   "execution_count": null,
   "metadata": {},
   "outputs": [],
   "source": []
  }
 ],
 "metadata": {
  "kernelspec": {
   "display_name": "music",
   "language": "python",
   "name": "python3"
  },
  "language_info": {
   "codemirror_mode": {
    "name": "ipython",
    "version": 3
   },
   "file_extension": ".py",
   "mimetype": "text/x-python",
   "name": "python",
   "nbconvert_exporter": "python",
   "pygments_lexer": "ipython3",
   "version": "3.8.18"
  }
 },
 "nbformat": 4,
 "nbformat_minor": 2
}
